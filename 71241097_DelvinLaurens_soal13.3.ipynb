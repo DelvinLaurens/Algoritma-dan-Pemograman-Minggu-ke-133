{
 "cells": [
  {
   "cell_type": "code",
   "execution_count": 4,
   "metadata": {},
   "outputs": [
    {
     "name": "stdout",
     "output_type": "stream",
     "text": [
      "04 3\n",
      "06 1\n",
      "07 1\n",
      "09 2\n",
      "10 3\n",
      "11 6\n",
      "14 1\n",
      "15 2\n",
      "16 4\n",
      "17 2\n",
      "18 1\n",
      "19 1\n"
     ]
    }
   ],
   "source": [
    "import re\n",
    "masukkan = input(\"Masukan nama file: \")\n",
    "try:\n",
    "    with open(masukkan, 'r') as file:\n",
    "        file = file.read()\n",
    "\n",
    "\n",
    "    cari = re.findall(r'^From .* ([0-9]{2}):[0-9]{2}:[0-9]{2}', file, re.MULTILINE)\n",
    "\n",
    "    frekuensi = {}\n",
    "    for jam in cari:\n",
    "        frekuensi[jam] = frekuensi.get(jam, 0) + 1\n",
    "\n",
    "    for jam in sorted(frekuensi):\n",
    "        print(jam,frekuensi[jam])\n",
    "except FileNotFoundError:\n",
    "    print(\"File tidak ditemukan\")"
   ]
  }
 ],
 "metadata": {
  "kernelspec": {
   "display_name": "Python 3",
   "language": "python",
   "name": "python3"
  },
  "language_info": {
   "codemirror_mode": {
    "name": "ipython",
    "version": 3
   },
   "file_extension": ".py",
   "mimetype": "text/x-python",
   "name": "python",
   "nbconvert_exporter": "python",
   "pygments_lexer": "ipython3",
   "version": "3.13.2"
  }
 },
 "nbformat": 4,
 "nbformat_minor": 2
}
