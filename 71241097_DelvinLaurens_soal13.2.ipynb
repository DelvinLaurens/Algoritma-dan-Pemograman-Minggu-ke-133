{
 "cells": [
  {
   "cell_type": "code",
   "execution_count": 13,
   "metadata": {},
   "outputs": [
    {
     "name": "stdout",
     "output_type": "stream",
     "text": [
      "Data: ('Matahari Bhakti Nendya', '22064091', 'Bantul, DI Yogyakarta')\n",
      "\n",
      "NIM    : 22064091\n",
      "Nama   : Matahari Bhakti Nendya\n",
      "Alamat : Bantul, DI Yogyakarta\n",
      "\n",
      "NIM: ('2', '2', '0', '6', '4', '0', '9', '1')\n",
      "\n",
      "NAMA DEPAN: ('a', 't', 'a', 'h', 'a', 'r', 'i')\n",
      "\n",
      "NAMA TERBALIK: ('Nendya', 'Bhakti', 'Matahari')\n"
     ]
    }
   ],
   "source": [
    "data = ('Matahari Bhakti Nendya','22064091','Bantul, DI Yogyakarta')\n",
    "print(f'Data: {data}')\n",
    "print()\n",
    "nama,nim,alamat = data\n",
    "print(f'{'NIM' :<7}: {nim}\\n{'Nama':<7}: {nama}\\n{'Alamat':<7}: {alamat}')\n",
    "print()\n",
    "pisahnim = tuple(nim)\n",
    "print(f\"NIM: {pisahnim}\")\n",
    "print()\n",
    "pisahnama = nama.split()[0]\n",
    "namadepan = tuple(pisahnama[1:])\n",
    "print(f\"NAMA DEPAN: {namadepan}\")\n",
    "print()\n",
    "namaterbalik = tuple(reversed(nama.split()))\n",
    "print(f\"NAMA TERBALIK: {namaterbalik}\")"
   ]
  }
 ],
 "metadata": {
  "kernelspec": {
   "display_name": "Python 3",
   "language": "python",
   "name": "python3"
  },
  "language_info": {
   "codemirror_mode": {
    "name": "ipython",
    "version": 3
   },
   "file_extension": ".py",
   "mimetype": "text/x-python",
   "name": "python",
   "nbconvert_exporter": "python",
   "pygments_lexer": "ipython3",
   "version": "3.13.2"
  }
 },
 "nbformat": 4,
 "nbformat_minor": 2
}
